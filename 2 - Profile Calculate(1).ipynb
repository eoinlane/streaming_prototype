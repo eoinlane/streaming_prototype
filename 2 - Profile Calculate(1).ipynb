{
 "cells": [
  {
   "cell_type": "code",
   "execution_count": null,
   "metadata": {
    "collapsed": false
   },
   "outputs": [],
   "source": [
    "from pyspark import SparkContext,SparkConf\n",
    "from pyspark.streaming import StreamingContext\n",
    "from pyspark.streaming.kafka import KafkaUtils\n",
    "import json\n",
    "import httplib\n",
    "from pykafka import KafkaClient\n",
    "\n",
    "# Create a local StreamingContext with two working thread and batch interval of 1 second\n",
    "#change locat[2] to spark://server1:7077\n",
    "conf = SparkConf().setAppName(\"Sales Order Calculation\").setMaster(\"spark://server1:7077\")\n",
    "conf.set(\"spark.cores.max\", 3)\n",
    "conf.set(\"spark.cassandra.connection.host\", \"server4\")\n",
    "#conf.set(\"spark.executor.extraClassPath\", \"/root/spark-cassandra-connector-assembly-1.5.0-M1-SNAPSHOT.jar\")\n",
    "#conf.set(\"spark.executor.extraClassPath\", \"/root/spark-streaming-kafka-assembly_2.10-1.5.0.jar\")\n",
    "#conf.set(\"spark.executor.extraClassPath\", \"/root/kafka_2.10-0.8.2.1/libs/kafka_2.10-0.8.2.1.jar\")\n",
    "#conf.set(\"spark.executor.extraClassPath\", \"/root/kafka_2.10-0.8.2.1/libs/zkclient-0.3.jar\")\n",
    "\n",
    "\n",
    "sc = SparkContext(conf=conf)\n",
    "#sc = SparkContext(\"spark://server1:7077\", \"profile_calculate\")\n",
    "streamingContext = StreamingContext(sc, 30)"
   ]
  },
  {
   "cell_type": "code",
   "execution_count": null,
   "metadata": {
    "collapsed": true
   },
   "outputs": [],
   "source": [
    "from cassandra.cluster import Cluster\n",
    "from cassandra.query import BatchStatement\n",
    "\n",
    "class SimpleClient(object):\n",
    "    session = None\n",
    "\n",
    "    def connect(self, nodes):\n",
    "        cluster = Cluster(nodes)\n",
    "        self.session = cluster.connect()\n",
    "        self.session.execute(\"use test\")\n",
    "        \n",
    "    def close(self):\n",
    "        self.session.cluster.shutdown()\n",
    "    \n",
    "    def execute(self, statement, parameters=[]):\n",
    "        preparedStatement = self.session.prepare(statement)\n",
    "        return self.session.execute(preparedStatement, parameters)"
   ]
  },
  {
   "cell_type": "code",
   "execution_count": null,
   "metadata": {
    "collapsed": false
   },
   "outputs": [],
   "source": [
    "#change localhost:2181 to server7 or zookeeper on server1?\n",
    "stream = KafkaUtils.createStream(streamingContext, 'server1.bigdata.ibm.com:2181', \"profile-calculate\", {'profile' :1})\n",
    "\n",
    "\n",
    "def processEvent(client, producer, profile):\n",
    "    if(profile.has_key('Score')):\n",
    "        return\n",
    "    #print '--------calculate profile----------'\n",
    "    #print profile\n",
    "    customer = profile['customer']\n",
    "    product = profile['product']\n",
    "    date = profile['date']\n",
    "    \n",
    "    result = client.execute(\"select * from customer_product where customer = ? and product = ? and date = ?\", [customer, product, date])\n",
    "    row = result[0]\n",
    "    #print row\n",
    "    \n",
    "    profile['LTDSalesCount'] = 0\n",
    "    profile['LTDSalesQty'] = 0\n",
    "    profile['LTDSalesAmt'] = 0.0\n",
    "    profile['AvgSalesAmt'] = 0.0\n",
    "    profile['AvgSalesQty'] = 0.0\n",
    "    \n",
    "    for key in row.orders.iterkeys():\n",
    "        value = row.orders.get(key)\n",
    "        profile['LTDSalesCount'] += 1\n",
    "        profile['LTDSalesQty'] += value.qty\n",
    "        profile['LTDSalesAmt'] += value.qty * value.unitamt\n",
    "\n",
    "    profile['AvgSalesAmt'] = profile['LTDSalesAmt'] / profile['LTDSalesQty']\n",
    "    profile['AvgSalesQty'] = float(profile['LTDSalesQty']) / profile['LTDSalesCount']\n",
    "    \n",
    "    #TODO: calcualate score\n",
    "    profile['Score'] = 1\n",
    "    #qty = order[\"Qty\"]\n",
    "    #path = \"/?qty=\" + str(qty)\n",
    "    #conn = httplib.HTTPConnection(\"localhost:5003\")\n",
    "    #conn.request(\"GET\", path)\n",
    "    #response = conn.getresponse()\n",
    "    #score = response.read()\n",
    "    #profile[\"Score\"] = int(score)\n",
    "    \n",
    "    producer.produce([json.dumps(profile)])\n",
    "\n",
    "    return profile\n",
    "    \n",
    "def processPartition(iter):\n",
    "    try:\n",
    "        #cassandra client\n",
    "        client = SimpleClient()\n",
    "        client.connect(['server4.bigdata.ibm.com','server5.bigdata.ibm.com','server6.bigdata.ibm.com'])\n",
    "        #print 'connected'\n",
    "        #kafka producer\n",
    "        kafkaClient = KafkaClient(hosts=\"server7.bigdata.ibm.com:9092,server8.bigdata.ibm.com:9092,server9.bigdata.ibm.com:9092\")\n",
    "        topic = kafkaClient.topics['profile']\n",
    "        producer = topic.get_producer()\n",
    "        i = 0\n",
    "        for record in iter:\n",
    "            i += 1\n",
    "            profile = processEvent(client, producer, json.loads(record[1]))\n",
    "    finally:\n",
    "        print '######## calculated ' + str(i) + ' profile ,last profile is ' +  str(profile)\n",
    "        client.close()\n",
    "        \n",
    "\n",
    "stream.foreachRDD(lambda rdd: rdd.foreachPartition(processPartition))"
   ]
  },
  {
   "cell_type": "code",
   "execution_count": null,
   "metadata": {
    "collapsed": false
   },
   "outputs": [],
   "source": [
    "streamingContext.start()             # Start the computation\n",
    "streamingContext.awaitTermination()  # Wait for the computation to terminate"
   ]
  },
  {
   "cell_type": "code",
   "execution_count": null,
   "metadata": {
    "collapsed": true
   },
   "outputs": [],
   "source": []
  }
 ],
 "metadata": {
  "kernelspec": {
   "display_name": "Python 2",
   "language": "python",
   "name": "python2"
  },
  "language_info": {
   "codemirror_mode": {
    "name": "ipython",
    "version": 2
   },
   "file_extension": ".py",
   "mimetype": "text/x-python",
   "name": "python",
   "nbconvert_exporter": "python",
   "pygments_lexer": "ipython2",
   "version": "2.7.5"
  }
 },
 "nbformat": 4,
 "nbformat_minor": 0
}
